{
 "cells": [
  {
   "cell_type": "markdown",
   "id": "4ce77fef-c4fd-4483-ba58-5463bb7658f0",
   "metadata": {},
   "source": [
    "<p style=\"text-align:center\">\n",
    "    <a href=\"https://skills.network\" target=\"_blank\">\n",
    "    <img src=\"https://cf-courses-data.s3.us.cloud-object-storage.appdomain.cloud/assets/logos/SN_web_lightmode.png\" width=\"200\" alt=\"Skills Network Logo\">\n",
    "    </a>\n",
    "</p>\n"
   ]
  },
  {
   "cell_type": "markdown",
   "id": "b3e12c27-2f33-4e83-a725-d40d7d278c7e",
   "metadata": {},
   "source": [
    "<h1>Two-Dimensional Tensors</h1>\n"
   ]
  },
  {
   "cell_type": "markdown",
   "id": "16fc23d4-8307-408c-86a3-6a96e372f8d9",
   "metadata": {},
   "source": [
    "<h2>Objective</h2><ul><li> How to perform tensor operations on 2D tensors.</li></ul> \n"
   ]
  },
  {
   "cell_type": "markdown",
   "id": "212cf10e-ff57-4ac5-bbe0-f01276011f8c",
   "metadata": {},
   "source": [
    "<h2>Table of Contents</h2>\n"
   ]
  },
  {
   "cell_type": "markdown",
   "id": "3697ef79-b262-4fb8-9278-c7af17fccc2e",
   "metadata": {},
   "source": [
    "<p>In this lab, you will learn the basics of tensor operations on 2D tensors.</p>\n",
    "<ul>\n",
    "    <li><a href=\"#Types-and-Shape\">Types and Shape </a></li>\n",
    "    <li><a href=\"#Indexing-and-Slicing\">Indexing and Slicing</a></li>\n",
    "    <li><a href=\"#Tensor-Operations\">Tensor Operations</a></li>\n",
    "</ul>\n",
    "\n",
    "<p>Estimated Time Needed: <b>10 min</b></p>\n",
    "<hr>\n"
   ]
  },
  {
   "cell_type": "markdown",
   "id": "98ce6079-ab33-4c50-a9d3-c4362a7cd04d",
   "metadata": {},
   "source": [
    "<h2>Preparation</h2>\n"
   ]
  },
  {
   "cell_type": "markdown",
   "id": "1f025e51-a96a-4bbd-8c2e-25eff6b80b91",
   "metadata": {},
   "source": [
    "The following are the libraries we are going to use for this lab.\n"
   ]
  },
  {
   "cell_type": "code",
   "execution_count": 3,
   "id": "59a84b13-c9f5-4f70-abd7-8beb00f0120d",
   "metadata": {},
   "outputs": [],
   "source": [
    "# These are the libraries will be used for this lab.\n",
    "\n",
    "import numpy as np \n",
    "import matplotlib.pyplot as plt\n",
    "import torch\n",
    "import pandas as pd"
   ]
  },
  {
   "cell_type": "markdown",
   "id": "1b45adf1-c282-4d09-8087-55ca95d12929",
   "metadata": {},
   "source": [
    "<!--Empty Space for separating topics-->\n"
   ]
  },
  {
   "cell_type": "markdown",
   "id": "7c8dff8a-d460-434b-9729-22651131a929",
   "metadata": {},
   "source": [
    "<h2 id=\"Types_Shape\">Types and Shape</h2>\n"
   ]
  },
  {
   "cell_type": "markdown",
   "id": "2389c47b-612c-4dda-bc98-c5b78eb49868",
   "metadata": {},
   "source": [
    "The methods and types for 2D tensors is similar to the methods and types for 1D tensors which has been introduced in <i>Previous Lab</i>.\n"
   ]
  },
  {
   "cell_type": "markdown",
   "id": "492237c3-aace-4e2d-9978-b33e1b4fc40e",
   "metadata": {},
   "source": [
    "Let us see how to convert a 2D list to a 2D tensor. First, let us create a 3X3 2D tensor. Then let us try to use <code>torch.tensor()</code> which we used for converting a 1D list to 1D tensor. Is it going to work?\n"
   ]
  },
  {
   "cell_type": "code",
   "execution_count": 8,
   "id": "56607d23-55b0-4f9f-8bb1-52289ad8114c",
   "metadata": {},
   "outputs": [
    {
     "name": "stdout",
     "output_type": "stream",
     "text": [
      "The New 2D Tensor:  tensor([[11, 12, 13],\n",
      "        [21, 22, 23],\n",
      "        [31, 32, 33]])\n",
      "The shape of tensor : torch.Size([3, 3])\n",
      "The Rank of tensor : 2\n",
      "The Size of tensor : torch.Size([3, 3])\n"
     ]
    }
   ],
   "source": [
    "# Convert 2D List to 2D Tensor\n",
    "\n",
    "twoD_list = [[11, 12, 13], [21, 22, 23], [31, 32, 33]]\n",
    "twoD_tensor = torch.tensor(twoD_list)\n",
    "print(\"The New 2D Tensor: \", twoD_tensor)\n",
    "print(\"The shape of tensor :\" , twoD_tensor.shape)\n",
    "print(\"The Rank of tensor :\" , twoD_tensor.ndimension())\n",
    "print(\"The Size of tensor :\" , twoD_tensor.size())\n"
   ]
  },
  {
   "cell_type": "markdown",
   "id": "366d7947-e5d3-407d-a5e6-ae91279c867a",
   "metadata": {},
   "source": [
    "Bravo! The method <code>torch.tensor()</code> works perfectly.Now, let us try other functions we studied in the <i>Previous Lab</i>.\n"
   ]
  },
  {
   "cell_type": "markdown",
   "id": "3939c02a-7048-428b-a57d-65f2cad672c9",
   "metadata": {},
   "source": [
    "<!--Empty Space for separating topics-->\n"
   ]
  },
  {
   "cell_type": "markdown",
   "id": "48492a3f-0097-4811-88c4-fe6313a02efe",
   "metadata": {},
   "source": [
    "Let us try <code><i>tensor_obj</i>.ndimension()</code> (<code>tensor_obj</code>: This can be any tensor object), <code><i>tensor_obj</i>.shape</code>, and <code><i>tensor_obj</i>.size()</code>\n"
   ]
  },
  {
   "cell_type": "code",
   "execution_count": 9,
   "id": "1074bf4f-ed8d-49f1-a970-0021db9e5036",
   "metadata": {},
   "outputs": [
    {
     "name": "stdout",
     "output_type": "stream",
     "text": [
      "The dimension of twoD_tensor:  2\n",
      "The shape of twoD_tensor:  torch.Size([3, 3])\n",
      "The shape of twoD_tensor:  torch.Size([3, 3])\n",
      "The number of elements in twoD_tensor:  9\n"
     ]
    }
   ],
   "source": [
    "# Try tensor_obj.ndimension(), tensor_obj.shape, tensor_obj.size()\n",
    "\n",
    "print(\"The dimension of twoD_tensor: \", twoD_tensor.ndimension())\n",
    "print(\"The shape of twoD_tensor: \", twoD_tensor.shape)\n",
    "print(\"The shape of twoD_tensor: \", twoD_tensor.size())\n",
    "print(\"The number of elements in twoD_tensor: \", twoD_tensor.numel())"
   ]
  },
  {
   "cell_type": "markdown",
   "id": "2d56ffd3-49ab-41f6-81b6-1ea8a62cb539",
   "metadata": {},
   "source": [
    "Because it is a 2D 3X3 tensor,  the outputs are correct.\n"
   ]
  },
  {
   "cell_type": "markdown",
   "id": "0b37f0c8-8c4d-4512-b75d-8f24bba185c4",
   "metadata": {},
   "source": [
    "<!--Empty Space for separating topics-->\n"
   ]
  },
  {
   "cell_type": "markdown",
   "id": "1eb3a33e-db92-4261-923b-eb93c6890df1",
   "metadata": {},
   "source": [
    "Now, let us try converting the tensor to a numpy array and convert the numpy array back to a tensor.\n"
   ]
  },
  {
   "cell_type": "code",
   "execution_count": 12,
   "id": "511a4cae-ec76-4133-9a10-b866ff5a85b3",
   "metadata": {},
   "outputs": [
    {
     "name": "stdout",
     "output_type": "stream",
     "text": [
      "Tensor -> Numpy Array:\n",
      "The numpy array after converting:  [[11 12 13]\n",
      " [21 22 23]\n",
      " [31 32 33]]\n",
      "Type after converting:  int64\n",
      "================================================\n",
      "Numpy Array -> Tensor:\n",
      "The tensor after converting: tensor([[11, 12, 13],\n",
      "        [21, 22, 23],\n",
      "        [31, 32, 33]])\n",
      "Type after converting:  torch.int64\n"
     ]
    }
   ],
   "source": [
    "# Convert tensor to numpy array; Convert numpy array to tensor\n",
    "\n",
    "twoD_numpy = twoD_tensor.numpy()\n",
    "print(\"Tensor -> Numpy Array:\")\n",
    "print(\"The numpy array after converting: \", twoD_numpy)\n",
    "print(\"Type after converting: \", twoD_numpy.dtype)\n",
    "\n",
    "print(\"================================================\")\n",
    "\n",
    "new_twoD_tensor = torch.from_numpy(twoD_numpy)\n",
    "print(\"Numpy Array -> Tensor:\")\n",
    "print(\"The tensor after converting:\", new_twoD_tensor)\n",
    "print(\"Type after converting: \", new_twoD_tensor.dtype)"
   ]
  },
  {
   "cell_type": "markdown",
   "id": "887912e3-b51b-493e-8145-0a541c405353",
   "metadata": {},
   "source": [
    "The result shows the tensor has successfully been converted to a numpy array and then converted back to a tensor.\n"
   ]
  },
  {
   "cell_type": "markdown",
   "id": "c18db7b2-1b6b-4caf-bddb-a12fa0527ed4",
   "metadata": {},
   "source": [
    "<!--Empty Space for separating topics-->\n"
   ]
  },
  {
   "cell_type": "markdown",
   "id": "bb654686-8bc0-499f-8aa3-61442dc6a695",
   "metadata": {},
   "source": [
    "Now let us try to convert a Pandas Dataframe to a tensor. The process is the  Same as the 1D conversion, we can obtain the numpy array via the attribute <code>values</code>. Then, we can use <code>torch.from_numpy()</code> to convert the value of the Pandas Series to a tensor.\n"
   ]
  },
  {
   "cell_type": "code",
   "execution_count": 13,
   "id": "c6b52157-2a2f-49de-9516-d3de62c36e94",
   "metadata": {},
   "outputs": [
    {
     "name": "stdout",
     "output_type": "stream",
     "text": [
      "Pandas Dataframe to numpy:  [[ 11  12]\n",
      " [ 21  22]\n",
      " [ 31 312]]\n",
      "Type BEFORE converting:  int64\n",
      "================================================\n",
      "Tensor AFTER converting:  tensor([[ 11,  12],\n",
      "        [ 21,  22],\n",
      "        [ 31, 312]])\n",
      "Type AFTER converting:  torch.int64\n"
     ]
    }
   ],
   "source": [
    "# Try to convert the Panda Dataframe to tensor\n",
    "\n",
    "df = pd.DataFrame({'a':[11,21,31],'b':[12,22,312]})\n",
    "\n",
    "print(\"Pandas Dataframe to numpy: \", df.values)\n",
    "print(\"Type BEFORE converting: \", df.values.dtype)\n",
    "\n",
    "print(\"================================================\")\n",
    "\n",
    "new_tensor = torch.from_numpy(df.values)\n",
    "print(\"Tensor AFTER converting: \", new_tensor)\n",
    "print(\"Type AFTER converting: \", new_tensor.dtype)"
   ]
  },
  {
   "cell_type": "markdown",
   "id": "2df8e179-632f-4808-b172-c58d72820509",
   "metadata": {},
   "source": [
    "<!--Empty Space for separating topics-->\n"
   ]
  },
  {
   "cell_type": "markdown",
   "id": "bd8570b0-d36c-4bd3-ad7e-d8ea7ff22d5b",
   "metadata": {},
   "source": [
    "<!--Empty Space for separating topics-->\n"
   ]
  },
  {
   "cell_type": "markdown",
   "id": "21657233-60eb-466d-9c17-4d1d93815dde",
   "metadata": {},
   "source": [
    "<h3>Practice</h3>\n"
   ]
  },
  {
   "cell_type": "markdown",
   "id": "71fa9d22-7068-4706-98f2-745914ac2cdc",
   "metadata": {},
   "source": [
    "Try to convert the following Pandas Dataframe  to a tensor\n"
   ]
  },
  {
   "cell_type": "code",
   "execution_count": null,
   "id": "a859e979-e62d-4238-a22d-eac92cf18c44",
   "metadata": {},
   "outputs": [
    {
     "name": "stdout",
     "output_type": "stream",
     "text": [
      "Numpy Array : [[11  3]\n",
      " [33  3]\n",
      " [22  2]]\n",
      "Numpy Array Data type : int64\n",
      "Tensor Data type : torch.int64\n",
      "Tensor Data is : tensor([[11,  3],\n",
      "        [33,  3],\n",
      "        [22,  2]])\n",
      "Tensor shape is : torch.Size([3, 2])\n",
      "Tensor shape is : torch.Size([3, 2])\n",
      "Tensor rank is : 2\n",
      "Tensor elements was : 6\n"
     ]
    }
   ],
   "source": [
    "# Practice: try to convert Pandas Series to tensor\n",
    "\n",
    "df = pd.DataFrame({'A':[11, 33, 22],'B':[3, 3, 2]})\n",
    "# 1-Convert DF to Numpy \n",
    "print(\"Numpy Array :\" , df.values)\n",
    "# 2- Print dtype of data before and after\n",
    "print(\"Numpy Array Data type :\" , df.values.dtype)\n",
    "# 3- Create Tensor object form Numby \n",
    "new_tensor = torch.from_numpy(df.values)\n",
    "print(\"Tensor Data type :\" , new_tensor.dtype)\n",
    "print(\"Tensor Data is :\" , new_tensor)\n",
    "\n",
    "print(\"Tensor shape is :\" , new_tensor.shape)\n",
    "print(\"Tensor shape is :\" , new_tensor.size())\n",
    "print(\"Tensor rank is :\" , new_tensor.ndimension())\n",
    "print(\"Tensor elements was :\" , new_tensor.numel())\n"
   ]
  },
  {
   "cell_type": "code",
   "execution_count": 19,
   "metadata": {},
   "outputs": [
    {
     "name": "stdout",
     "output_type": "stream",
     "text": [
      "tensor([[[ 1,  2,  3,  4],\n",
      "         [ 5,  6,  7,  8],\n",
      "         [ 9, 10, 11, 12]],\n",
      "\n",
      "        [[13, 14, 15, 16],\n",
      "         [17, 18, 19, 20],\n",
      "         [21, 22, 23, 24]]])\n",
      "Shape: torch.Size([2, 3, 4])\n"
     ]
    },
    {
     "data": {
      "image/png": "[encoded data removed]",
      "text/plain": [
       "<Figure size 640x480 with 2 Axes>"
      ]
     },
     "metadata": {},
     "output_type": "display_data"
    },
    {
     "data": {
      "image/png": "[encoded data removed]",
      "text/plain": [
       "<Figure size 640x480 with 2 Axes>"
      ]
     },
     "metadata": {},
     "output_type": "display_data"
    }
   ],
   "source": [
    "import torch\n",
    "import matplotlib.pyplot as plt\n",
    "\n",
    "# Create a 3D tensor: shape (2, 3, 4)\n",
    "# Think of it as 2 matrices (3 rows × 4 columns)\n",
    "tensor_3d = torch.tensor([\n",
    "    [  # First \"slice\"\n",
    "        [1, 2, 3, 4],\n",
    "        [5, 6, 7, 8],\n",
    "        [9, 10, 11, 12]\n",
    "    ],\n",
    "    [  # Second \"slice\"\n",
    "        [13, 14, 15, 16],\n",
    "        [17, 18, 19, 20],\n",
    "        [21, 22, 23, 24]\n",
    "    ]\n",
    "])\n",
    "\n",
    "print(tensor_3d)\n",
    "print(\"Shape:\", tensor_3d.shape)\n",
    "\n",
    "\n",
    "\"\"\"3D Tensor\n",
    "\n",
    " Explanation:\n",
    "This gives you a tensor of shape (2, 3, 4):\n",
    "2 \"matrices\" (depth),\n",
    "Each of size 3 rows × 4 columns.\n",
    "\n",
    "\"\"\"\n",
    "\n",
    "\n",
    "\n",
    "\n",
    "for i in range(tensor_3d.shape[0]):\n",
    "    plt.figure()\n",
    "    plt.imshow(tensor_3d[i].numpy(), cmap='plasma', aspect='auto')\n",
    "    plt.colorbar(label='Value')\n",
    "    plt.title(f\"Slice {i}\")\n",
    "    plt.xlabel(\"Columns\")\n",
    "    plt.ylabel(\"Rows\")\n",
    "    plt.grid(False)\n",
    "    plt.tight_layout()\n",
    "    plt.show()\n"
   ]
  },
  {
   "cell_type": "markdown",
   "id": "c52939a1-a0bc-4a0a-b25e-7b4140b80101",
   "metadata": {},
   "source": [
    "<h2 id=\"Index_Slice\">Indexing and Slicing</h2>\n"
   ]
  },
  {
   "cell_type": "markdown",
   "id": "f3580968-6684-4226-805a-cbf0da64d3ee",
   "metadata": {},
   "source": [
    "You can use rectangular brackets to access the different elements of the tensor. The correspondence between the rectangular brackets and the list and the rectangular representation is shown in the following figure for a 3X3 tensor:  \n"
   ]
  },
  {
   "cell_type": "markdown",
   "id": "7e0b0f6a-801e-461c-bad8-0e897850e2a5",
   "metadata": {},
   "source": [
    "<img src=\"https://s3-api.us-geo.objectstorage.softlayer.net/cf-courses-data/CognitiveClass/DL0110EN/notebook_images%20/chapter%201/1.2index1.png\" width=\"500\" alt=\"Matrix Structure Introduce\">\n"
   ]
  },
  {
   "cell_type": "markdown",
   "id": "ad4501e0-2e87-4d1d-98e2-219d21db8dd0",
   "metadata": {},
   "source": [
    "You can access the 2nd-row 3rd-column as shown in the following figure:\n"
   ]
  },
  {
   "cell_type": "markdown",
   "id": "48d9c85f-b1be-4573-819e-a14a8bfce390",
   "metadata": {},
   "source": [
    "<img src=\"https://s3-api.us-geo.objectstorage.softlayer.net/cf-courses-data/CognitiveClass/DL0110EN/notebook_images%20/chapter%201/1.2index.png\" width=\"500\" alt=\"Example of Matrix Index\">\n"
   ]
  },
  {
   "cell_type": "markdown",
   "id": "18cb47c8-346b-484f-9884-99b9795d67cd",
   "metadata": {},
   "source": [
    "You simply use the square brackets and the indices corresponding to the element that you want.\n"
   ]
  },
  {
   "cell_type": "markdown",
   "id": "803f6b49-65b7-4989-a332-04963b2fcf6c",
   "metadata": {},
   "source": [
    "Now, let us try to access the value on position 2nd-row 3rd-column. Remember that the index is always 1 less than how we count rows and columns. There are two ways to access the certain value of a tensor. The example in code will be the same as the example picture above.\n"
   ]
  },
  {
   "cell_type": "code",
   "execution_count": null,
   "id": "917f0517-fe85-454b-b486-380e3c1d1eb3",
   "metadata": {},
   "outputs": [],
   "source": [
    "# Use tensor_obj[row, column] and tensor_obj[row][column] to access certain position\n",
    "\n",
    "tensor_example = torch.tensor([[11, 12, 13], [21, 22, 23], [31, 32, 33]])\n",
    "print(\"What is the value on 2nd-row 3rd-column? \", tensor_example[1, 2])\n",
    "print(\"What is the value on 2nd-row 3rd-column? \", tensor_example[1][2])"
   ]
  },
  {
   "cell_type": "markdown",
   "id": "ee187468-6d27-40ce-8da6-e4f43bcbc797",
   "metadata": {},
   "source": [
    "As we can see, both methods return the true value (the same value as the picture above). Therefore, both of the methods work.\n"
   ]
  },
  {
   "cell_type": "markdown",
   "id": "6f1faff2-1a3e-445b-83aa-001d1b194fa8",
   "metadata": {},
   "source": [
    "<!--Empty Space for separating topics-->\n"
   ]
  },
  {
   "cell_type": "markdown",
   "id": "94cf6b73-3e35-4aed-927f-afa025b48ad0",
   "metadata": {},
   "source": [
    "Consider the elements shown in the following figure: \n"
   ]
  },
  {
   "cell_type": "markdown",
   "id": "38d386af-9c73-4e0b-afab-9c2b11139513",
   "metadata": {},
   "source": [
    "<img src=\"https://s3-api.us-geo.objectstorage.softlayer.net/cf-courses-data/CognitiveClass/DL0110EN/notebook_images%20/chapter%201/1.2_index2.png\" width=\"500\" alt=\"Example of Matrix Index\">\n"
   ]
  },
  {
   "cell_type": "markdown",
   "id": "fc4503c7-48e9-4eb2-9d81-8c86eb7fa1c3",
   "metadata": {},
   "source": [
    "Use the method above, we can access the 1st-row 1st-column by <code>tensor_example[0][0]</code>\n"
   ]
  },
  {
   "cell_type": "code",
   "execution_count": null,
   "id": "d2abfc9a-ae0b-412f-82c3-4c0dad51941c",
   "metadata": {},
   "outputs": [],
   "source": [
    "tensor_example[0][0]"
   ]
  },
  {
   "cell_type": "markdown",
   "id": "fabe0850-41a7-4b4c-b5e8-015b7e3e2702",
   "metadata": {},
   "source": [
    "But what if we want to get the value on both 1st-row 1st-column and 1st-row 2nd-column?\n"
   ]
  },
  {
   "cell_type": "markdown",
   "id": "1775768a-2eb8-45fb-9c50-3fd4cc5d2f28",
   "metadata": {},
   "source": [
    "You can also use slicing in a tensor. Consider the following figure. You want to obtain the 1st two columns in the 1st row:  \n"
   ]
  },
  {
   "cell_type": "markdown",
   "id": "d230e2be-1eae-4b8c-b372-0c7024159a2f",
   "metadata": {},
   "source": [
    "<img src=\"https://s3-api.us-geo.objectstorage.softlayer.net/cf-courses-data/CognitiveClass/DL0110EN/notebook_images%20/chapter%201/1.2sliceing.png\" width=\"500\" alt=\"Example of Matrix Index and Slicing\">\n"
   ]
  },
  {
   "cell_type": "markdown",
   "id": "afa46a30-4dfc-48c3-add9-2e8038009edf",
   "metadata": {},
   "source": [
    "## Let us see how  we use slicing with 2D tensors to get the values in the above picture.\n"
   ]
  },
  {
   "cell_type": "code",
   "execution_count": null,
   "id": "d74f6f5a-6dba-4885-b4ab-537ed8b04699",
   "metadata": {},
   "outputs": [],
   "source": [
    "# Use tensor_obj[begin_row_number: end_row_number, begin_column_number: end_column number] \n",
    "# and tensor_obj[row][begin_column_number: end_column number] to do the slicing\n",
    "\n",
    "tensor_example = torch.tensor([[11, 12, 13], [21, 22, 23], [31, 32, 33]])\n",
    "print(\"What is the value on 1st-row first two columns? \", tensor_example[0, 0:2])\n",
    "print(\"What is the value on 1st-row first two columns? \", tensor_example[0][0:2])"
   ]
  },
  {
   "cell_type": "markdown",
   "id": "04a86d1d-db1d-47c1-b6e2-231fd837fb17",
   "metadata": {},
   "source": [
    "We get the result as <code>tensor([11, 12])</code> successfully.\n"
   ]
  },
  {
   "cell_type": "markdown",
   "id": "a10ab5be-9ff4-462b-8e76-d97bb3480db2",
   "metadata": {},
   "source": [
    "<!--Empty Space for separating topics-->\n"
   ]
  },
  {
   "cell_type": "markdown",
   "id": "ac424924-eb09-4f72-81b7-8b5077d59081",
   "metadata": {},
   "source": [
    "But we <b>can't</b> combine using slicing on row and pick one column by using the code <code>tensor_obj[begin_row_number: end_row_number][begin_column_number: end_column number]</code>. The reason is that the slicing will be applied on the tensor first. The result type will be a two dimension again. The second bracket will no longer represent the index of the column it will be the index of the row at that time. Let us see an example. \n"
   ]
  },
  {
   "cell_type": "code",
   "execution_count": null,
   "id": "1fb8b501-8f88-4dd2-a9f2-d960e5dfb126",
   "metadata": {},
   "outputs": [],
   "source": [
    "# Give an idea on tensor_obj[number: number][number]\n",
    "\n",
    "tensor_example = torch.tensor([[11, 12, 13], [21, 22, 23], [31, 32, 33]])\n",
    "sliced_tensor_example = tensor_example[1:3]\n",
    "print(\"1. Slicing step on tensor_example: \")\n",
    "print(\"Result after tensor_example[1:3]: \", sliced_tensor_example)\n",
    "print(\"Dimension after tensor_example[1:3]: \", sliced_tensor_example.ndimension())\n",
    "print(\"================================================\")\n",
    "print(\"2. Pick an index on sliced_tensor_example: \")\n",
    "print(\"Result after sliced_tensor_example[1]: \", sliced_tensor_example[1])\n",
    "print(\"Dimension after sliced_tensor_example[1]: \", sliced_tensor_example[1].ndimension())\n",
    "print(\"================================================\")\n",
    "print(\"3. Combine these step together:\")\n",
    "print(\"Result: \", tensor_example[1:3][1])\n",
    "print(\"Dimension: \", tensor_example[1:3][1].ndimension())"
   ]
  },
  {
   "cell_type": "markdown",
   "id": "6b5ddcc9-b20d-4acb-b2cc-d0a8d6664278",
   "metadata": {},
   "source": [
    "See the results and dimensions in 2 and 3 are the same. Both of them contains the 3rd row in the <code>tensor_example</code>, but not the last two values in the 3rd column.\n"
   ]
  },
  {
   "cell_type": "markdown",
   "id": "09ddbdbf-bbf1-4963-acf0-d40c53b67ee3",
   "metadata": {},
   "source": [
    "<!--Empty Space for separating topics-->\n"
   ]
  },
  {
   "cell_type": "markdown",
   "id": "d85ab10f-2267-403f-8341-d6c8f200d07f",
   "metadata": {},
   "source": [
    "So how can we get the elements in the 3rd column with the last two rows? As the below picture.\n"
   ]
  },
  {
   "cell_type": "markdown",
   "id": "b8444ee3-0ecd-4990-9e24-963219cb43a8",
   "metadata": {},
   "source": [
    "<img src=\"https://s3-api.us-geo.objectstorage.softlayer.net/cf-courses-data/CognitiveClass/DL0110EN/notebook_images%20/chapter%201/1.2slicing2.png\" width=\"500\" alt=\"Example of Matrix Index and Slicing\">\n"
   ]
  },
  {
   "cell_type": "markdown",
   "id": "e1db7ca4-61e4-4b2f-9ca0-25b23824ef82",
   "metadata": {},
   "source": [
    "Let's see the code below.\n"
   ]
  },
  {
   "cell_type": "code",
   "execution_count": null,
   "id": "64151ba2-b90d-487f-9055-a7761f19ef24",
   "metadata": {},
   "outputs": [],
   "source": [
    "# Use tensor_obj[begin_row_number: end_row_number, begin_column_number: end_column number] \n",
    "\n",
    "tensor_example = torch.tensor([[11, 12, 13], [21, 22, 23], [31, 32, 33]])\n",
    "print(\"What is the value on 3rd-column last two rows? \", tensor_example[1:3, 2])"
   ]
  },
  {
   "cell_type": "markdown",
   "id": "ea290531-35b3-4718-8f4e-e1e5ff1bc363",
   "metadata": {},
   "source": [
    "Fortunately, the code <code>tensor_obj[begin_row_number: end_row_number, begin_column_number: end_column number]</code> is still works.\n"
   ]
  },
  {
   "cell_type": "markdown",
   "id": "6437c88e-4b16-466b-927f-d73e6ff1b0a1",
   "metadata": {},
   "source": [
    "<!--Empty Space for separating topics-->\n"
   ]
  },
  {
   "cell_type": "markdown",
   "id": "907e3b24-e2cd-4978-a8de-6f2e567c1bfe",
   "metadata": {},
   "source": [
    "<h3>Practice</h3>\n"
   ]
  },
  {
   "cell_type": "markdown",
   "id": "4d162f9f-2bae-40b4-bec5-e85b6536f69f",
   "metadata": {},
   "source": [
    "Try to change the values on the second column and the last two rows to 0. Basically, change the values on <code>tensor_ques[1][1]</code> and <code>tensor_ques[2][1]</code> to 0.\n"
   ]
  },
  {
   "cell_type": "code",
   "execution_count": null,
   "id": "640a94b6-f045-40a2-bcce-bf464d900a5e",
   "metadata": {},
   "outputs": [],
   "source": [
    "# Practice: Use slice and index to change the values on the matrix tensor_ques.\n",
    "\n",
    "tensor_ques = torch.tensor([[11, 12, 13], [21, 22, 23], [31, 32, 33]])\n"
   ]
  },
  {
   "cell_type": "markdown",
   "id": "8977e671-bac2-4f91-86d3-e317ee94c3a4",
   "metadata": {},
   "source": [
    "Double-click <b>here</b> for the solution.\n",
    "\n",
    "<!--\n",
    "tensor_ques[1:3, 1] = 0\n",
    "print(\"The result: \", tensor_ques)\n",
    "-->\n"
   ]
  },
  {
   "cell_type": "markdown",
   "id": "a19753bf-999a-4bef-84d0-a4d243183e85",
   "metadata": {},
   "source": [
    "<!--Empty Space for separating topics-->\n"
   ]
  },
  {
   "cell_type": "markdown",
   "id": "e7ff9b2c-fd21-40a5-bd61-1adc306c6510",
   "metadata": {},
   "source": [
    "<h2 id=\"Tensor_Op\">Tensor Operations</h2> \n"
   ]
  },
  {
   "cell_type": "markdown",
   "id": "b9d464f9-43b1-427a-9af6-abd539ad0524",
   "metadata": {},
   "source": [
    "We can also do some calculations on 2D tensors.\n"
   ]
  },
  {
   "cell_type": "markdown",
   "id": "201c8d44-8d32-4266-ac45-8950028ad659",
   "metadata": {},
   "source": [
    "<!--Empty Space for separating topics-->\n"
   ]
  },
  {
   "cell_type": "markdown",
   "id": "186d8482-7772-4c87-8144-91af2dd6d07c",
   "metadata": {},
   "source": [
    "<h3>Tensor Addition</h3>\n"
   ]
  },
  {
   "cell_type": "markdown",
   "id": "6dcfa015-dc73-4d3f-9b49-4aac8c4cd913",
   "metadata": {},
   "source": [
    "You can also add tensors; the process is identical to matrix addition. Matrix addition of <b>X</b> and <b>Y</b> is shown in the following figure:\n"
   ]
  },
  {
   "cell_type": "markdown",
   "id": "dbae4aba-1970-4dab-b32b-0d5e971afe3b",
   "metadata": {},
   "source": [
    "<img src=\"https://s3-api.us-geo.objectstorage.softlayer.net/cf-courses-data/CognitiveClass/DL0110EN/notebook_images%20/chapter%201/1.2add.png\" width=\"500\" alt=\"Tensor Addition in 2D\">\n"
   ]
  },
  {
   "cell_type": "markdown",
   "id": "99652260-93b8-4bec-b90c-98af9cc6d8f9",
   "metadata": {},
   "source": [
    "Let us see how tensor addition works with <code>X</code> and <code>Y</code>.\n"
   ]
  },
  {
   "cell_type": "code",
   "execution_count": null,
   "id": "959c3bac-c814-4d26-9c48-250b044d6f0c",
   "metadata": {},
   "outputs": [],
   "source": [
    "# Calculate [[1, 0], [0, 1]] + [[2, 1], [1, 2]]\n",
    "\n",
    "X = torch.tensor([[1, 0],[0, 1]]) \n",
    "Y = torch.tensor([[2, 1],[1, 2]])\n",
    "X_plus_Y = X + Y\n",
    "print(\"The result of X + Y: \", X_plus_Y)"
   ]
  },
  {
   "cell_type": "markdown",
   "id": "4d3fc626-6348-4b6f-8502-6e288273117c",
   "metadata": {},
   "source": [
    "Like the result shown in the picture above. The result is <code>[[3, 1], [1, 3]]</code>\n"
   ]
  },
  {
   "cell_type": "markdown",
   "id": "aff46f62-c55f-4526-894b-e1bcb5842b10",
   "metadata": {},
   "source": [
    "<!--Empty Space for separating topics-->\n"
   ]
  },
  {
   "cell_type": "markdown",
   "id": "f1e72f1e-192c-4b8e-9dec-8c52a73e733d",
   "metadata": {},
   "source": [
    "<h3> Scalar Multiplication </h3>\n"
   ]
  },
  {
   "cell_type": "markdown",
   "id": "93ec1d80-bf9a-40df-a508-f02aa0e8a864",
   "metadata": {},
   "source": [
    "Multiplying a tensor by a scalar is identical to multiplying a matrix by a scaler. If you multiply the matrix <b>Y</b> by the scalar 2, you simply multiply every element in the matrix by 2 as shown in the figure:\n"
   ]
  },
  {
   "cell_type": "markdown",
   "id": "384cb6d9-b695-467a-8019-40f623adf1e0",
   "metadata": {},
   "source": [
    "<img src=\"https://s3-api.us-geo.objectstorage.softlayer.net/cf-courses-data/CognitiveClass/DL0110EN/notebook_images%20/chapter%201/1.2scaller_mult.png\" width=\"500\" alt=\"The product of tensor and scalar\">\n"
   ]
  },
  {
   "cell_type": "markdown",
   "id": "e579c95d-dd4c-416e-92b3-09a3540ade55",
   "metadata": {},
   "source": [
    "Let us try to calculate the product of <b>2Y</b>.\n"
   ]
  },
  {
   "cell_type": "code",
   "execution_count": null,
   "id": "a36517a2-32e2-4799-8ba0-14cda041e70e",
   "metadata": {},
   "outputs": [],
   "source": [
    "# Calculate 2 * [[2, 1], [1, 2]]\n",
    "\n",
    "Y = torch.tensor([[2, 1], [1, 2]]) \n",
    "two_Y = 2 * Y\n",
    "print(\"The result of 2Y: \", two_Y)"
   ]
  },
  {
   "cell_type": "markdown",
   "id": "5e67dcd3-8f59-44f7-9ad4-f786e1e4b6e0",
   "metadata": {},
   "source": [
    "<!--Empty Space for separating topics-->\n"
   ]
  },
  {
   "cell_type": "markdown",
   "id": "a1e7094a-751f-420c-b3e7-b3d986bda407",
   "metadata": {},
   "source": [
    "<h3>Element-wise Product/Hadamard Product</h3>\n"
   ]
  },
  {
   "cell_type": "markdown",
   "id": "b7c463d7-e4a9-4163-bdcc-8e85a0804a7d",
   "metadata": {},
   "source": [
    "Multiplication of two tensors corresponds to an element-wise product or Hadamard product.  Consider matrix the <b>X</b> and <b>Y</b> with the same size. The Hadamard product corresponds to multiplying each of the elements at the same position, that is, multiplying elements with the same color together. The result is a new matrix that is the same size as matrix <b>X</b> and <b>Y</b> as shown in the following figure:\n"
   ]
  },
  {
   "cell_type": "markdown",
   "id": "6989cd34-ff8a-43fc-bf87-c93300c3eee6",
   "metadata": {},
   "source": [
    " <a><img src=\"https://s3-api.us-geo.objectstorage.softlayer.net/cf-courses-data/CognitiveClass/DL0110EN/notebook_images%20/chapter%201/1.2tensor_pruduct.png\" width=\"500\" align=\"center\"> </a>\n"
   ]
  },
  {
   "cell_type": "markdown",
   "id": "6fc13a15-100b-4322-9df9-eb7153a3bd6c",
   "metadata": {},
   "source": [
    "The code below calculates the element-wise product of the tensor <strong>X</strong> and <strong>Y</strong>:\n"
   ]
  },
  {
   "cell_type": "code",
   "execution_count": null,
   "id": "6339da8c-aa85-404c-85fa-baaadc27082e",
   "metadata": {},
   "outputs": [],
   "source": [
    "# Calculate [[1, 0], [0, 1]] * [[2, 1], [1, 2]]\n",
    "\n",
    "X = torch.tensor([[1, 0], [0, 1]])\n",
    "Y = torch.tensor([[2, 1], [1, 2]]) \n",
    "X_times_Y = X * Y\n",
    "print(\"The result of X * Y: \", X_times_Y)"
   ]
  },
  {
   "cell_type": "markdown",
   "id": "13640f0c-61a4-4c02-8279-bcbb4d12b146",
   "metadata": {},
   "source": [
    "This is a simple calculation. The result from the code matches the result shown in the picture.\n"
   ]
  },
  {
   "cell_type": "markdown",
   "id": "d7a4cfc2-74a7-4119-8048-6d1cdc13d282",
   "metadata": {},
   "source": [
    "<!--Empty Space for separating topics-->\n"
   ]
  },
  {
   "cell_type": "markdown",
   "id": "6b28c1d1-ee5c-4d2b-876c-3704d3b3aebe",
   "metadata": {},
   "source": [
    "<h3>Matrix Multiplication </h3>\n"
   ]
  },
  {
   "cell_type": "markdown",
   "id": "273f9adb-7faf-43af-bab9-43a5cb27ed3f",
   "metadata": {},
   "source": [
    "We can also apply matrix multiplication to two tensors, if you have learned linear algebra, you should know that in the multiplication of two matrices order matters. This means if <i>X * Y</i> is valid, it does not mean <i>Y * X</i> is valid. The number of columns of the matrix on the left side of the multiplication sign must equal to the number of rows of the matrix on the right side.\n"
   ]
  },
  {
   "cell_type": "markdown",
   "id": "2966b9e7-6fdb-456a-96b5-b7ba7d020689",
   "metadata": {},
   "source": [
    "First, let us create a tensor <code>X</code> with size 2X3. Then, let us create another tensor <code>Y</code> with size 3X2. Since the number of columns of <code>X</code> is equal to the number of rows of <code>Y</code>. We are able to perform the multiplication.\n"
   ]
  },
  {
   "cell_type": "markdown",
   "id": "b8fdc50c-0a50-4b28-ba70-5dae420a73ca",
   "metadata": {},
   "source": [
    "We use <code>torch.mm()</code> for calculating the multiplication between tensors with different sizes.\n"
   ]
  },
  {
   "cell_type": "code",
   "execution_count": null,
   "id": "382bc946-802b-44e7-8f90-0a103f1b652f",
   "metadata": {},
   "outputs": [],
   "source": [
    "# Calculate [[0, 1, 1], [1, 0, 1]] * [[1, 1], [1, 1], [-1, 1]]\n",
    "\n",
    "A = torch.tensor([[0, 1, 1], [1, 0, 1]])\n",
    "B = torch.tensor([[1, 1], [1, 1], [-1, 1]])\n",
    "A_times_B = torch.mm(A,B)\n",
    "print(\"The result of A * B: \", A_times_B)"
   ]
  },
  {
   "cell_type": "markdown",
   "id": "96610fef-a070-423f-84c3-ed50aa41ee73",
   "metadata": {},
   "source": [
    "<!--Empty Space for separating topics-->\n"
   ]
  },
  {
   "cell_type": "markdown",
   "id": "2e58b110-774b-4de7-a6a2-646eb76751d7",
   "metadata": {},
   "source": [
    "<h3>Practice</h3>\n"
   ]
  },
  {
   "cell_type": "markdown",
   "id": "9a274722-4ae5-431f-9dcf-2bcddfa689f6",
   "metadata": {},
   "source": [
    "Try to create your own two tensors (<code>X</code> and <code>Y</code>) with different sizes, and multiply them.\n"
   ]
  },
  {
   "cell_type": "code",
   "execution_count": null,
   "id": "bdec3008-e7f8-44c8-b8e1-79a196ef1475",
   "metadata": {},
   "outputs": [],
   "source": [
    "# Practice: Calculate the product of two tensors (X and Y) with different sizes \n",
    "\n",
    "# Type your code here"
   ]
  },
  {
   "cell_type": "markdown",
   "id": "2c49db71-1471-47ec-b9b6-a4c438837010",
   "metadata": {},
   "source": [
    "Double-click <b>here</b> for the solution.\n",
    "\n",
    "<!--\n",
    "X = torch.tensor([[0, 1], [1, 2]])\n",
    "Y = torch.tensor([[-1, -2, 0], [2, 1, 2]])\n",
    "X_times_Y = torch.mm(X, Y)\n",
    "print(\"The result of X * Y: \", X_times_Y)\n",
    "-->\n"
   ]
  },
  {
   "cell_type": "markdown",
   "id": "47f45543-f39c-40b4-a2f5-1fd3ae3bcf13",
   "metadata": {},
   "source": [
    "<a href=\"https://dataplatform.cloud.ibm.com/registration/stepone?utm_source=skills_network&utm_content=in_lab_content_link&utm_id=Lab-IBMDeveloperSkillsNetwork-DL0110EN-SkillsNetwork&context=cpdaas&apps=data_science_experience%2Cwatson_machine_learning\"><img src=\"https://cf-courses-data.s3.us.cloud-object-storage.appdomain.cloud/IBMDeveloperSkillsNetwork-DL0110EN-SkillsNetwork/Template/module%201/images/Watson_Studio.png\"></a>\n"
   ]
  },
  {
   "cell_type": "markdown",
   "id": "4fe24c03-e396-4217-b085-7fee407026b9",
   "metadata": {},
   "source": [
    "<!--Empty Space for separating topics-->\n"
   ]
  },
  {
   "cell_type": "markdown",
   "id": "39fc2669-ea8d-4f3c-9e66-dc3084380925",
   "metadata": {},
   "source": [
    "<h2>About the Authors:</h2> \n",
    "\n",
    "<a href=\"https://www.linkedin.com/in/joseph-s-50398b136/\">Joseph Santarcangelo</a> has a PhD in Electrical Engineering, his research focused on using machine learning, signal processing, and computer vision to determine how videos impact human cognition. Joseph has been working for IBM since he completed his PhD.\n"
   ]
  },
  {
   "cell_type": "markdown",
   "id": "745d48d9-da2f-433b-bdc5-d9ee272ba0fd",
   "metadata": {},
   "source": [
    "Other contributors: <a href=\"https://www.linkedin.com/in/michelleccarey/\">Michelle Carey</a>, <a href=\"www.linkedin.com/in/jiahui-mavis-zhou-a4537814a\">Mavis Zhou</a> \n"
   ]
  },
  {
   "cell_type": "markdown",
   "id": "7b9fc3e2-73f1-4d12-9a30-1e9e7b0ff0d1",
   "metadata": {},
   "source": [
    "<!--\n",
    "## Change Log\n",
    "\n",
    "|  Date (YYYY-MM-DD) |  Version | Changed By  |  Change Description |\n",
    "|---|---|---|---|\n",
    "| 2020-09-21  | 2.0  | Shubham  |  Migrated Lab to Markdown and added to course repo in GitLab |\n",
    "\n",
    "-->\n"
   ]
  },
  {
   "cell_type": "markdown",
   "id": "a9418cb7-add5-413b-998e-bc827805649d",
   "metadata": {},
   "source": [
    "<hr>\n"
   ]
  },
  {
   "cell_type": "markdown",
   "id": "015576a4-cb51-447d-ab1b-167ec262283b",
   "metadata": {},
   "source": [
    "## <h3 align=\"center\"> &#169; IBM Corporation. All rights reserved. <h3/>\n"
   ]
  }
 ],
 "metadata": {
  "kernelspec": {
   "display_name": ".venv",
   "language": "python",
   "name": "python3"
  },
  "language_info": {
   "codemirror_mode": {
    "name": "ipython",
    "version": 3
   },
   "file_extension": ".py",
   "mimetype": "text/x-python",
   "name": "python",
   "nbconvert_exporter": "python",
   "pygments_lexer": "ipython3",
   "version": "3.12.1"
  },
  "prev_pub_hash": "e4abccb498a03d5a0f112dd0f87effd9041cc7a9a9cbda09416601358ab94be2"
 },
 "nbformat": 4,
 "nbformat_minor": 4
}
