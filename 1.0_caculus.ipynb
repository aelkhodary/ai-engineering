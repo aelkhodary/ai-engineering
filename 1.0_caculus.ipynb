{
 "cells": [
  {
   "cell_type": "markdown",
   "id": "5bf8ed32",
   "metadata": {},
   "source": [
    "The above figure shows how the function m(x) is changing and it also shows that no matter which value of x we choose the rate of change of m(x) always remains a 2. We can verify the above result with SymPy:"
   ]
  },
  {
   "cell_type": "code",
   "execution_count": 1,
   "id": "1b46d8f7",
   "metadata": {},
   "outputs": [
    {
     "name": "stdout",
     "output_type": "stream",
     "text": [
      "Derivative of\n",
      "2⋅x + 5\n",
      "with respect to x is\n",
      "2\n"
     ]
    }
   ],
   "source": [
    "from sympy import diff, sqrt, pprint \n",
    "from sympy.abc import x\n",
    "\n",
    "expression = 2*x + 5\n",
    "result = diff(expression, x)\n",
    "print(\"Derivative of\")\n",
    "pprint(expression)\n",
    "print(\"with respect to x is\")\n",
    "pprint(result) "
   ]
  },
  {
   "cell_type": "code",
   "execution_count": 5,
   "id": "4a26a999",
   "metadata": {},
   "outputs": [
    {
     "name": "stdout",
     "output_type": "stream",
     "text": [
      "Derivative of\n",
      "   ________\n",
      "  ╱  2     \n",
      "╲╱  x  + 1 \n",
      "with respect to x is\n",
      "     x     \n",
      "───────────\n",
      "   ________\n",
      "  ╱  2     \n",
      "╲╱  x  + 1 \n"
     ]
    }
   ],
   "source": [
    "from sympy import diff, sqrt, pprint \n",
    "from sympy.abc import x\n",
    "\n",
    "expression = sqrt(x**2 + 1)\n",
    "result = diff(expression, x)\n",
    "print(\"Derivative of\")\n",
    "pprint(expression)\n",
    "print(\"with respect to x is\")\n",
    "pprint(result) "
   ]
  },
  {
   "cell_type": "code",
   "execution_count": 1,
   "id": "4129d349",
   "metadata": {},
   "outputs": [
    {
     "name": "stdout",
     "output_type": "stream",
     "text": [
      "Derivative of\n",
      "1\n",
      "─\n",
      "x\n",
      "with respect to x is\n",
      "-1 \n",
      "───\n",
      " 2 \n",
      "x  \n"
     ]
    }
   ],
   "source": [
    "from sympy import diff, sqrt, pprint\n",
    "from sympy.abc import x\n",
    "\n",
    "expression = 1/x\n",
    "result = diff(expression, x)\n",
    "print(\"Derivative of\")\n",
    "pprint(expression)\n",
    "print(\"with respect to x is\")\n",
    "pprint(result)"
   ]
  },
  {
   "cell_type": "code",
   "execution_count": 2,
   "id": "98afe306",
   "metadata": {},
   "outputs": [
    {
     "name": "stdout",
     "output_type": "stream",
     "text": [
      "Derivative of\n",
      "1 \n",
      "──\n",
      " 2\n",
      "x \n",
      "with respect to x is\n",
      "-2 \n",
      "───\n",
      " 3 \n",
      "x  \n"
     ]
    }
   ],
   "source": [
    "from sympy import diff, sqrt, pprint\n",
    "from sympy.abc import x\n",
    "\n",
    "expression = 1/x**2\n",
    "result = diff(expression, x)\n",
    "print(\"Derivative of\")\n",
    "pprint(expression)\n",
    "print(\"with respect to x is\")\n",
    "pprint(result)"
   ]
  },
  {
   "cell_type": "code",
   "execution_count": 3,
   "id": "c8419f1a",
   "metadata": {},
   "outputs": [
    {
     "name": "stdout",
     "output_type": "stream",
     "text": [
      "Derivative of\n",
      "1 \n",
      "──\n",
      " 3\n",
      "x \n",
      "with respect to x is\n",
      "-3 \n",
      "───\n",
      " 4 \n",
      "x  \n"
     ]
    }
   ],
   "source": [
    "from sympy import diff, sqrt, pprint\n",
    "from sympy.abc import x\n",
    "\n",
    "expression = 1/x**3\n",
    "result = diff(expression, x)\n",
    "print(\"Derivative of\")\n",
    "pprint(expression)\n",
    "print(\"with respect to x is\")\n",
    "pprint(result)"
   ]
  },
  {
   "cell_type": "code",
   "execution_count": 1,
   "id": "42a9cf0f",
   "metadata": {},
   "outputs": [
    {
     "name": "stdout",
     "output_type": "stream",
     "text": [
      "Derivative of\n",
      " 2\n",
      "x \n",
      "with respect to x is\n",
      "2⋅x\n",
      "\n",
      "Derivative of\n",
      "   5\n",
      "3⋅x \n",
      "with respect to x is\n",
      "    4\n",
      "15⋅x \n",
      "\n",
      "Derivative of\n",
      "   9\n",
      "4⋅x \n",
      "with respect to x is\n",
      "    8\n",
      "36⋅x \n",
      "\n"
     ]
    }
   ],
   "source": [
    "from sympy import diff, pprint\n",
    "from sympy.abc import x\n",
    "expressions = [x**2, 3*x**5, 4*x**9] \n",
    "for expression in expressions:\n",
    "      result = diff(expression, x)\n",
    "      print(\"Derivative of\")\n",
    "      pprint(expression)\n",
    "      print(\"with respect to x is\")\n",
    "      pprint(result)\n",
    "      print()\n",
    "      "
   ]
  }
 ],
 "metadata": {
  "kernelspec": {
   "display_name": ".venv",
   "language": "python",
   "name": "python3"
  },
  "language_info": {
   "codemirror_mode": {
    "name": "ipython",
    "version": 3
   },
   "file_extension": ".py",
   "mimetype": "text/x-python",
   "name": "python",
   "nbconvert_exporter": "python",
   "pygments_lexer": "ipython3",
   "version": "3.12.1"
  }
 },
 "nbformat": 4,
 "nbformat_minor": 5
}
