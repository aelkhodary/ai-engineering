{
 "cells": [
  {
   "cell_type": "markdown",
   "id": "5bf8ed32",
   "metadata": {},
   "source": [
    "The above figure shows how the function m(x) is changing and it also shows that no matter which value of x we choose the rate of change of m(x) always remains a 2. We can verify the above result with SymPy:"
   ]
  },
  {
   "cell_type": "code",
   "execution_count": 1,
   "id": "1b46d8f7",
   "metadata": {},
   "outputs": [
    {
     "name": "stdout",
     "output_type": "stream",
     "text": [
      "Derivative of\n",
      "2⋅x + 5\n",
      "with respect to x is\n",
      "2\n"
     ]
    }
   ],
   "source": [
    "from sympy import diff, sqrt, pprint \n",
    "from sympy.abc import x\n",
    "\n",
    "expression = 2*x + 5\n",
    "result = diff(expression, x)\n",
    "print(\"Derivative of\")\n",
    "pprint(expression)\n",
    "print(\"with respect to x is\")\n",
    "pprint(result) "
   ]
  },
  {
   "cell_type": "code",
   "execution_count": 5,
   "id": "4a26a999",
   "metadata": {},
   "outputs": [
    {
     "name": "stdout",
     "output_type": "stream",
     "text": [
      "Derivative of\n",
      "   ________\n",
      "  ╱  2     \n",
      "╲╱  x  + 1 \n",
      "with respect to x is\n",
      "     x     \n",
      "───────────\n",
      "   ________\n",
      "  ╱  2     \n",
      "╲╱  x  + 1 \n"
     ]
    }
   ],
   "source": [
    "from sympy import diff, sqrt, pprint \n",
    "from sympy.abc import x\n",
    "\n",
    "expression = sqrt(x**2 + 1)\n",
    "result = diff(expression, x)\n",
    "print(\"Derivative of\")\n",
    "pprint(expression)\n",
    "print(\"with respect to x is\")\n",
    "pprint(result) "
   ]
  },
  {
   "cell_type": "code",
   "execution_count": 1,
   "id": "4129d349",
   "metadata": {},
   "outputs": [
    {
     "name": "stdout",
     "output_type": "stream",
     "text": [
      "Derivative of\n",
      "1\n",
      "─\n",
      "x\n",
      "with respect to x is\n",
      "-1 \n",
      "───\n",
      " 2 \n",
      "x  \n"
     ]
    }
   ],
   "source": [
    "from sympy import diff, sqrt, pprint\n",
    "from sympy.abc import x\n",
    "\n",
    "expression = 1/x\n",
    "result = diff(expression, x)\n",
    "print(\"Derivative of\")\n",
    "pprint(expression)\n",
    "print(\"with respect to x is\")\n",
    "pprint(result)"
   ]
  },
  {
   "cell_type": "code",
   "execution_count": 2,
   "id": "98afe306",
   "metadata": {},
   "outputs": [
    {
     "name": "stdout",
     "output_type": "stream",
     "text": [
      "Derivative of\n",
      "1 \n",
      "──\n",
      " 2\n",
      "x \n",
      "with respect to x is\n",
      "-2 \n",
      "───\n",
      " 3 \n",
      "x  \n"
     ]
    }
   ],
   "source": [
    "from sympy import diff, sqrt, pprint\n",
    "from sympy.abc import x\n",
    "\n",
    "expression = 1/x**2\n",
    "result = diff(expression, x)\n",
    "print(\"Derivative of\")\n",
    "pprint(expression)\n",
    "print(\"with respect to x is\")\n",
    "pprint(result)"
   ]
  },
  {
   "cell_type": "code",
   "execution_count": 3,
   "id": "c8419f1a",
   "metadata": {},
   "outputs": [
    {
     "name": "stdout",
     "output_type": "stream",
     "text": [
      "Derivative of\n",
      "1 \n",
      "──\n",
      " 3\n",
      "x \n",
      "with respect to x is\n",
      "-3 \n",
      "───\n",
      " 4 \n",
      "x  \n"
     ]
    }
   ],
   "source": [
    "from sympy import diff, sqrt, pprint\n",
    "from sympy.abc import x\n",
    "\n",
    "expression = 1/x**3\n",
    "result = diff(expression, x)\n",
    "print(\"Derivative of\")\n",
    "pprint(expression)\n",
    "print(\"with respect to x is\")\n",
    "pprint(result)"
   ]
  },
  {
   "cell_type": "code",
   "execution_count": 1,
   "id": "42a9cf0f",
   "metadata": {},
   "outputs": [
    {
     "name": "stdout",
     "output_type": "stream",
     "text": [
      "Derivative of\n",
      " 2\n",
      "x \n",
      "with respect to x is\n",
      "2⋅x\n",
      "\n",
      "Derivative of\n",
      "   5\n",
      "3⋅x \n",
      "with respect to x is\n",
      "    4\n",
      "15⋅x \n",
      "\n",
      "Derivative of\n",
      "   9\n",
      "4⋅x \n",
      "with respect to x is\n",
      "    8\n",
      "36⋅x \n",
      "\n"
     ]
    }
   ],
   "source": [
    "from sympy import diff, pprint\n",
    "from sympy.abc import x\n",
    "expressions = [x**2, 3*x**5, 4*x**9] \n",
    "for expression in expressions:\n",
    "      result = diff(expression, x)\n",
    "      print(\"Derivative of\")\n",
    "      pprint(expression)\n",
    "      print(\"with respect to x is\")\n",
    "      pprint(result)\n",
    "      print()\n",
    "      "
   ]
  },
  {
   "cell_type": "code",
   "execution_count": 2,
   "id": "18f343fb",
   "metadata": {},
   "outputs": [
    {
     "name": "stdout",
     "output_type": "stream",
     "text": [
      "Derivative of\n",
      "   a\n",
      "k⋅x \n",
      "with respect to x is\n",
      "     a - 1\n",
      "a⋅k⋅x     \n",
      "\n",
      "Derivative of\n",
      " 0.2\n",
      "x   \n",
      "with respect to x is\n",
      "     -0.8\n",
      "0.2⋅x    \n",
      "\n",
      "Derivative of\n",
      " π\n",
      "x \n",
      "with respect to x is\n",
      "   -1 + π\n",
      "π⋅x      \n",
      "\n",
      "Derivative of\n",
      " 1  \n",
      "────\n",
      " 3/4\n",
      "x   \n",
      "with respect to x is\n",
      " -3   \n",
      "──────\n",
      "   7/4\n",
      "4⋅x   \n",
      "\n"
     ]
    }
   ],
   "source": [
    "from sympy import diff, pprint, powsimp, simplify \n",
    "from sympy.abc import x\n",
    "expressions = [\"k*x**a\", \"x**0.2\", \"x**pi\", \"x**(-3/4)\"] \n",
    "for expression in expressions:\n",
    "      expression = simplify(expression)\n",
    "      result = diff(expression, x)\n",
    "      print(\"Derivative of\")\n",
    "      pprint(expression)\n",
    "      print(\"with respect to x is\")\n",
    "      pprint(powsimp(result))\n",
    "      print()\n",
    "      "
   ]
  },
  {
   "cell_type": "code",
   "execution_count": 14,
   "id": "d4892b46",
   "metadata": {},
   "outputs": [
    {
     "name": "stdout",
     "output_type": "stream",
     "text": [
      "The first derivative of sine is: cos(x)\n",
      "The first derivative of cosine is: -sin(x)\n",
      "\n",
      "The second derivative of sine is: -sin(x)\n",
      "The second derivative of cosine is: -cos(x)\n",
      "\n",
      "The second derivative of sine is: -sin(x)\n",
      "The second derivative of cosine is: -cos(x)\n",
      "The first derivative of sine is: 0\n",
      "The first derivative of sine is: 0 with respect to cos x 1\n"
     ]
    }
   ],
   "source": [
    " # finding the derivative of the sine and cosine functions\n",
    "from sympy import diff\n",
    "from sympy import sin\n",
    "from sympy import cos\n",
    "from sympy import symbols\n",
    "  # define variable as symbol\n",
    "\n",
    "x = symbols('x')\n",
    "\n",
    "# find the first derivative of sine and cosine with respect to x\n",
    "print('The first derivative of sine is:', diff(sin(x), x))\n",
    "print('The first derivative of cosine is:', diff(cos(x), x))\n",
    "  # find the second derivative of sine and cosine with respect to x\n",
    "print('\\nThe second derivative of sine is:', diff(sin(x), x, x))\n",
    "print('The second derivative of cosine is:', diff(cos(x), x, x))\n",
    "  # find the second derivative of sine and cosine with respect to x\n",
    "print('\\nThe second derivative of sine is:', diff(sin(x), x, 2))\n",
    "print('The second derivative of cosine is:', diff(cos(x), x, 2))\n",
    "\n",
    "print('The first derivative of sine is:', diff(sin(0)))\n",
    "\n",
    "print('The first derivative of sine is:', diff(sin(0)), 'with respect to cos x', cos(0))"
   ]
  },
  {
   "cell_type": "code",
   "execution_count": 1,
   "id": "b55e30e3",
   "metadata": {},
   "outputs": [
    {
     "data": {
      "image/png": "[encoded data removed]",
      "text/plain": [
       "<Figure size 640x480 with 1 Axes>"
      ]
     },
     "metadata": {},
     "output_type": "display_data"
    }
   ],
   "source": [
    "# Code a small PyTorch  example of this sine-based neural network\n",
    "import torch\n",
    "import torch.nn as nn\n",
    "import torch.optim as optim\n",
    "import matplotlib.pyplot as plt\n",
    "import numpy as np\n",
    "\n",
    "# Custom sine activation\n",
    "class SineLayer(nn.Module):\n",
    "    def forward(self, x):\n",
    "        return torch.sin(x)\n",
    "\n",
    "# Sine-based neural network\n",
    "class SineNet(nn.Module):\n",
    "    def __init__(self):\n",
    "        super(SineNet, self).__init__()\n",
    "        self.model = nn.Sequential(\n",
    "            nn.Linear(1, 16),\n",
    "            SineLayer(),\n",
    "            nn.Linear(16, 16),\n",
    "            SineLayer(),\n",
    "            nn.Linear(16, 1)\n",
    "        )\n",
    "\n",
    "    def forward(self, x):\n",
    "        return self.model(x)\n",
    "\n",
    "# Generate training data for y = sin(2x)\n",
    "x_train = np.linspace(-np.pi, np.pi, 200).reshape(-1, 1).astype(np.float32)\n",
    "y_train = np.sin(2 * x_train)\n",
    "\n",
    "# Convert to PyTorch tensors\n",
    "x_tensor = torch.tensor(x_train)\n",
    "y_tensor = torch.tensor(y_train)\n",
    "\n",
    "# Initialize model, loss function, and optimizer\n",
    "model = SineNet()\n",
    "criterion = nn.MSELoss()\n",
    "optimizer = optim.Adam(model.parameters(), lr=0.01)\n",
    "\n",
    "# Train the model\n",
    "for epoch in range(1000):\n",
    "    optimizer.zero_grad()\n",
    "    output = model(x_tensor)\n",
    "    loss = criterion(output, y_tensor)\n",
    "    loss.backward()\n",
    "    optimizer.step()\n",
    "\n",
    "# Predict and plot results\n",
    "with torch.no_grad():\n",
    "    y_pred = model(x_tensor).numpy()\n",
    "\n",
    "plt.plot(x_train, y_train, label=\"Target: sin(2x)\")\n",
    "plt.plot(x_train, y_pred, '--', label=\"Model Prediction\")\n",
    "plt.legend()\n",
    "plt.grid(True)\n",
    "plt.title(\"Sine-based Neural Network (SIREN)\")\n",
    "plt.xlabel(\"x\")\n",
    "plt.ylabel(\"y\")\n",
    "plt.show()\n"
   ]
  }
 ],
 "metadata": {
  "kernelspec": {
   "display_name": ".venv",
   "language": "python",
   "name": "python3"
  },
  "language_info": {
   "codemirror_mode": {
    "name": "ipython",
    "version": 3
   },
   "file_extension": ".py",
   "mimetype": "text/x-python",
   "name": "python",
   "nbconvert_exporter": "python",
   "pygments_lexer": "ipython3",
   "version": "3.12.1"
  }
 },
 "nbformat": 4,
 "nbformat_minor": 5
}
